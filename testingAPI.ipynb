{
 "cells": [
  {
   "cell_type": "code",
   "execution_count": 20,
   "id": "f8fcb22e-2f74-4a45-8954-91973a4938b6",
   "metadata": {},
   "outputs": [
    {
     "name": "stdout",
     "output_type": "stream",
     "text": [
      "{'status': 'API is running'}\n"
     ]
    }
   ],
   "source": [
    "import requests\n",
    "import pandas as pd\n",
    "response = requests.get(\"http://127.0.0.1:5000/health\")\n",
    "print(response.json())"
   ]
  },
  {
   "cell_type": "code",
   "execution_count": 21,
   "id": "6825d1b4-e9a8-45b1-85b7-e46ae8f63c0f",
   "metadata": {},
   "outputs": [
    {
     "name": "stdout",
     "output_type": "stream",
     "text": [
      "['RandomForest', 'GradientBoosting', 'AdaBoost', 'LogisticRegression', 'SVC']\n"
     ]
    }
   ],
   "source": [
    "response = requests.get(\"http://127.0.0.1:5000/models\")\n",
    "print(response.json())"
   ]
  },
  {
   "cell_type": "code",
   "execution_count": 22,
   "id": "218a52bd-8e73-4732-8486-d3aeb6fc0c2d",
   "metadata": {},
   "outputs": [],
   "source": [
    "response = requests.get(\"http://127.0.0.1:5000/upload_data\")\n",
    "loaded_data = pd.read_csv('synthetic_data.csv')"
   ]
  },
  {
   "cell_type": "code",
   "execution_count": 23,
   "id": "ba969a12-d1f6-4636-817c-ab76598f8477",
   "metadata": {},
   "outputs": [
    {
     "name": "stdout",
     "output_type": "stream",
     "text": [
      "{'error': 'No data loaded. Please upload data first.'}\n"
     ]
    }
   ],
   "source": [
    "url = \"http://127.0.0.1:5000/train\"\n",
    "data = {\n",
    "    \"model_name\": \"RandomForest\",\n",
    "    \"params\": {\n",
    "        \"n_estimators\": [100, 200],\n",
    "        \"max_depth\": [10, 20]\n",
    "    }\n",
    "}\n",
    "response = requests.post(url, json=data)\n",
    "print(response.json())\n"
   ]
  },
  {
   "cell_type": "code",
   "execution_count": 24,
   "id": "5271e39d-b2c5-4689-b913-7e7edf96c931",
   "metadata": {},
   "outputs": [
    {
     "name": "stdout",
     "output_type": "stream",
     "text": [
      "{'error': 'No data loaded. Please upload data first.'}\n"
     ]
    }
   ],
   "source": [
    "url = \"http://127.0.0.1:5000/train\"\n",
    "data = {\n",
    "    \"model_name\": \"RandomForest\",\n",
    "    \"params\": {\n",
    "        \"n_estimators\": [100, 200],\n",
    "        \"max_depth\": [10, 20]\n",
    "    }\n",
    "}\n",
    "response = requests.post(url, json=data)\n",
    "print(response.json())\n"
   ]
  },
  {
   "cell_type": "code",
   "execution_count": 25,
   "id": "41b54d04-9746-4fa6-a67b-fcde347b12e3",
   "metadata": {},
   "outputs": [
    {
     "name": "stdout",
     "output_type": "stream",
     "text": [
      "{'error': 'Model not found'}\n"
     ]
    }
   ],
   "source": [
    "url = \"http://127.0.0.1:5000/predict\"\n",
    "data = {\n",
    "    \"model_name\": \"RandomForest\",\n",
    "    \"input_data\": [0.5, 1.2, -0.3, 0.8, 0.1, -1.1, 0.6, -0.5, 1.0, 0.4, 0.9, -0.2, 0.7, -0.1, 1.5, 0.3, -0.6, 0.2, 1.3, -0.4]\n",
    "}\n",
    "response = requests.post(url, json=data)\n",
    "print(response.json())"
   ]
  },
  {
   "cell_type": "code",
   "execution_count": 26,
   "id": "9a3b11b9-d2bb-456c-a30c-4b69527efe06",
   "metadata": {},
   "outputs": [
    {
     "name": "stdout",
     "output_type": "stream",
     "text": [
      "{'error': 'Model not found'}\n"
     ]
    }
   ],
   "source": [
    "url = \"http://127.0.0.1:5000/delete_model\"\n",
    "data = {\"model_name\": \"RandomForest\"}\n",
    "response = requests.delete(url, json=data)\n",
    "print(response.json())"
   ]
  },
  {
   "cell_type": "code",
   "execution_count": null,
   "id": "594b9ab7-7097-4fff-8aeb-f54df9aec541",
   "metadata": {},
   "outputs": [],
   "source": []
  }
 ],
 "metadata": {
  "kernelspec": {
   "display_name": "Python 3 (ipykernel)",
   "language": "python",
   "name": "python3"
  },
  "language_info": {
   "codemirror_mode": {
    "name": "ipython",
    "version": 3
   },
   "file_extension": ".py",
   "mimetype": "text/x-python",
   "name": "python",
   "nbconvert_exporter": "python",
   "pygments_lexer": "ipython3",
   "version": "3.11.7"
  }
 },
 "nbformat": 4,
 "nbformat_minor": 5
}
