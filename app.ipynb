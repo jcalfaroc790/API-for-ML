{
 "cells": [
  {
   "cell_type": "code",
   "execution_count": 13,
   "id": "61cf26fb-e736-4ba9-9bdc-60fa27a64f83",
   "metadata": {},
   "outputs": [
    {
     "name": "stdout",
     "output_type": "stream",
     "text": [
      "Requirement already satisfied: flask in c:\\users\\juan\\anaconda3\\lib\\site-packages (2.2.5)\n",
      "Requirement already satisfied: scikit-learn in c:\\users\\juan\\anaconda3\\lib\\site-packages (1.2.2)\n",
      "Requirement already satisfied: joblib in c:\\users\\juan\\anaconda3\\lib\\site-packages (1.2.0)\n",
      "Requirement already satisfied: Werkzeug>=2.2.2 in c:\\users\\juan\\anaconda3\\lib\\site-packages (from flask) (2.2.3)\n",
      "Requirement already satisfied: Jinja2>=3.0 in c:\\users\\juan\\anaconda3\\lib\\site-packages (from flask) (3.1.3)\n",
      "Requirement already satisfied: itsdangerous>=2.0 in c:\\users\\juan\\anaconda3\\lib\\site-packages (from flask) (2.0.1)\n",
      "Requirement already satisfied: click>=8.0 in c:\\users\\juan\\anaconda3\\lib\\site-packages (from flask) (8.1.7)\n",
      "Requirement already satisfied: numpy>=1.17.3 in c:\\users\\juan\\anaconda3\\lib\\site-packages (from scikit-learn) (1.26.4)\n",
      "Requirement already satisfied: scipy>=1.3.2 in c:\\users\\juan\\anaconda3\\lib\\site-packages (from scikit-learn) (1.11.4)\n",
      "Requirement already satisfied: threadpoolctl>=2.0.0 in c:\\users\\juan\\anaconda3\\lib\\site-packages (from scikit-learn) (2.2.0)\n",
      "Requirement already satisfied: colorama in c:\\users\\juan\\anaconda3\\lib\\site-packages (from click>=8.0->flask) (0.4.6)\n",
      "Requirement already satisfied: MarkupSafe>=2.0 in c:\\users\\juan\\anaconda3\\lib\\site-packages (from Jinja2>=3.0->flask) (2.1.3)\n",
      "Note: you may need to restart the kernel to use updated packages.\n"
     ]
    }
   ],
   "source": [
    "pip install flask scikit-learn joblib"
   ]
  },
  {
   "cell_type": "code",
   "execution_count": 1,
   "id": "1a4f6bc8-4c2c-4213-ba6c-95f49cd7098d",
   "metadata": {},
   "outputs": [],
   "source": [
    "from flask import Flask, request, jsonify\n",
    "from sklearn.ensemble import RandomForestClassifier, GradientBoostingClassifier\n",
    "from sklearn.model_selection import train_test_split, GridSearchCV\n",
    "from sklearn.datasets import make_classification\n",
    "from joblib import dump, load\n",
    "import os\n",
    "\n",
    "# Directory to store trained models\n",
    "MODEL_DIR = 'models'\n",
    "os.makedirs(MODEL_DIR, exist_ok=True)\n"
   ]
  },
  {
   "cell_type": "code",
   "execution_count": 2,
   "id": "1b244a58-5c2b-4f30-8748-8a9ad44fb247",
   "metadata": {},
   "outputs": [],
   "source": [
    "app = Flask(__name__)\n",
    "\n",
    "# Available models\n",
    "MODEL_CLASSES = {\n",
    "    \"RandomForest\": RandomForestClassifier,\n",
    "    \"GradientBoosting\": GradientBoostingClassifier\n",
    "}\n"
   ]
  },
  {
   "cell_type": "code",
   "execution_count": 4,
   "id": "6ab989fe-bcf8-4895-8573-8b5399102d63",
   "metadata": {},
   "outputs": [],
   "source": [
    "@app.route('/models', methods=['GET'])\n",
    "def list_models():\n",
    "    \"\"\"Return a list of available model classes for training.\"\"\"\n",
    "    return jsonify(list(MODEL_CLASSES.keys()))\n"
   ]
  },
  {
   "cell_type": "code",
   "execution_count": 5,
   "id": "fb5dcd74-ffd9-4bf5-89f9-d0616900a1be",
   "metadata": {},
   "outputs": [],
   "source": [
    "@app.route('/train', methods=['POST'])\n",
    "def train_model():\n",
    "    \"\"\"Train a model with specified hyperparameters.\"\"\"\n",
    "    data = request.get_json()\n",
    "    model_name = data.get('model_name')\n",
    "    params = data.get('params', {})\n",
    "\n",
    "    if model_name not in MODEL_CLASSES:\n",
    "        return jsonify({\"error\": \"Model not available\"}), 400\n",
    "\n",
    "    X, y = make_classification(n_samples=1000, n_features=20)\n",
    "    X_train, X_test, y_train, y_test = train_test_split(X, y, test_size=0.2, random_state=42)\n",
    "\n",
    "    model_class = MODEL_CLASSES[model_name]\n",
    "    model = model_class()\n",
    "\n",
    "    grid_search = GridSearchCV(model, params, cv=3)\n",
    "    grid_search.fit(X_train, y_train)\n",
    "\n",
    "    best_model = grid_search.best_estimator_\n",
    "\n",
    "    model_path = f\"{MODEL_DIR}/{model_name}.joblib\"\n",
    "    dump(best_model, model_path)\n",
    "\n",
    "    return jsonify({\"message\": f\"{model_name} trained successfully\", \"best_params\": grid_search.best_params_})\n"
   ]
  },
  {
   "cell_type": "code",
   "execution_count": 6,
   "id": "c142e712-9bd2-4131-9c57-44b9ac8f241a",
   "metadata": {},
   "outputs": [],
   "source": [
    "@app.route('/predict', methods=['POST'])\n",
    "def predict():\n",
    "    \"\"\"Predict using a specified trained model.\"\"\"\n",
    "    data = request.get_json()\n",
    "    model_name = data.get('model_name')\n",
    "    input_data = data.get('input_data')\n",
    "\n",
    "    model_path = f\"{MODEL_DIR}/{model_name}.joblib\"\n",
    "    if not os.path.exists(model_path):\n",
    "        return jsonify({\"error\": \"Model not found\"}), 404\n",
    "\n",
    "    model = load(model_path)\n",
    "    prediction = model.predict([input_data])\n",
    "\n",
    "    return jsonify({\"prediction\": prediction.tolist()})\n"
   ]
  },
  {
   "cell_type": "code",
   "execution_count": 7,
   "id": "2e0f079d-8cca-4db8-a8dc-0a1955806fbe",
   "metadata": {},
   "outputs": [],
   "source": [
    "@app.route('/delete_model', methods=['DELETE'])\n",
    "def delete_model():\n",
    "    \"\"\"Delete a specified trained model.\"\"\"\n",
    "    data = request.get_json()\n",
    "    model_name = data.get('model_name')\n",
    "    \n",
    "    model_path = f\"{MODEL_DIR}/{model_name}.joblib\"\n",
    "    if os.path.exists(model_path):\n",
    "        os.remove(model_path)\n",
    "        return jsonify({\"message\": f\"{model_name} deleted successfully\"})\n",
    "    else:\n",
    "        return jsonify({\"error\": \"Model not found\"}), 404\n"
   ]
  },
  {
   "cell_type": "code",
   "execution_count": 8,
   "id": "09d7c79d-dbf6-4632-b17b-b04971999f59",
   "metadata": {},
   "outputs": [],
   "source": [
    "@app.route('/retrain', methods=['POST'])\n",
    "def retrain_model():\n",
    "    \"\"\"Re-train an existing model with new hyperparameters.\"\"\"\n",
    "    return train_model()\n"
   ]
  },
  {
   "cell_type": "code",
   "execution_count": 9,
   "id": "7192eac5-28ee-4c85-b111-25cc1702f496",
   "metadata": {},
   "outputs": [],
   "source": [
    "@app.route('/health', methods=['GET'])\n",
    "def health_check():\n",
    "    return jsonify({\"status\": \"API is running\"})\n"
   ]
  },
  {
   "cell_type": "code",
   "execution_count": 10,
   "id": "094939e4-9c07-41e5-ac9a-7dbc6962b99e",
   "metadata": {},
   "outputs": [
    {
     "name": "stdout",
     "output_type": "stream",
     "text": [
      " * Serving Flask app '__main__'\n",
      " * Debug mode: on\n"
     ]
    },
    {
     "name": "stderr",
     "output_type": "stream",
     "text": [
      "WARNING: This is a development server. Do not use it in a production deployment. Use a production WSGI server instead.\n",
      " * Running on http://127.0.0.1:5000\n",
      "Press CTRL+C to quit\n",
      " * Restarting with watchdog (windowsapi)\n"
     ]
    },
    {
     "ename": "SystemExit",
     "evalue": "1",
     "output_type": "error",
     "traceback": [
      "An exception has occurred, use %tb to see the full traceback.\n",
      "\u001b[1;31mSystemExit\u001b[0m\u001b[1;31m:\u001b[0m 1\n"
     ]
    },
    {
     "name": "stderr",
     "output_type": "stream",
     "text": [
      "C:\\Users\\JUAN\\anaconda3\\Lib\\site-packages\\IPython\\core\\interactiveshell.py:3561: UserWarning: To exit: use 'exit', 'quit', or Ctrl-D.\n",
      "  warn(\"To exit: use 'exit', 'quit', or Ctrl-D.\", stacklevel=1)\n"
     ]
    }
   ],
   "source": [
    "if __name__ == '__main__':\n",
    "    app.run(debug=True)\n"
   ]
  },
  {
   "cell_type": "code",
   "execution_count": null,
   "id": "daefac69-30a8-4136-af85-135f994143b0",
   "metadata": {},
   "outputs": [],
   "source": []
  }
 ],
 "metadata": {
  "kernelspec": {
   "display_name": "Python 3 (ipykernel)",
   "language": "python",
   "name": "python3"
  },
  "language_info": {
   "codemirror_mode": {
    "name": "ipython",
    "version": 3
   },
   "file_extension": ".py",
   "mimetype": "text/x-python",
   "name": "python",
   "nbconvert_exporter": "python",
   "pygments_lexer": "ipython3",
   "version": "3.11.7"
  }
 },
 "nbformat": 4,
 "nbformat_minor": 5
}
